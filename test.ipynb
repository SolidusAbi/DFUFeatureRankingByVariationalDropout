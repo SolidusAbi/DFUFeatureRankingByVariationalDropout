{
 "cells": [
  {
   "cell_type": "code",
   "execution_count": null,
   "metadata": {},
   "outputs": [],
   "source": [
    "import os\n",
    "from matplotlib import pyplot as plt\n",
    "import numpy as np\n",
    "import pandas as pd\n",
    "import config"
   ]
  },
  {
   "cell_type": "code",
   "execution_count": null,
   "metadata": {},
   "outputs": [],
   "source": [
    "from enum import Enum\n",
    "class DFUData(Enum):\n",
    "    L = 0 # Left Foot\n",
    "    R = 1 # Right Foot\n",
    "    L_LCA = 2  # Angiosom LCA Left Foot \n",
    "    R_LCA = 3  # Angiosom LCA Right Foot\n",
    "    L_LPA = 4  # Angiosom LPA Left Foot \n",
    "    R_LPA = 5  # Angiosom LPA Right Foot \n",
    "    L_MCA = 6  # Angiosom MCA Left Foot \n",
    "    R_MCA = 7  # Angiosom MCA Right Foot \n",
    "    L_MPA = 8  # Angiosom MPA Left Foot \n",
    "    R_MPA = 9  # Angiosom MPA Right Foot \n",
    "\n",
    "\n",
    "class INAOEDataset():\n",
    "    def __init__(self, root_path, dm_group = False):\n",
    "        cg_path = os.path.join(root_path, 'Control Group')\n",
    "        dm_path = os.path.join(root_path, 'DM Group')\n",
    "\n",
    "        self.dm_group = dm_group\n",
    "\n",
    "        self.cg_subjects = sorted(list(map(lambda x: os.path.join(cg_path, x), os.listdir(cg_path))))\n",
    "        self.dm_subjects = sorted(list(map(lambda x: os.path.join(dm_path, x), os.listdir(dm_path))))\n",
    "\n",
    "    def set_group(self, dm_group):\n",
    "        self.dm_group = dm_group\n",
    "\n",
    "    def __len__(self):\n",
    "        if self.dm_group:\n",
    "            return len(self.dm_subjects)\n",
    "        \n",
    "        return len(self.cg_subjects) \n",
    "\n",
    "    def get_subjects_names(self):\n",
    "        dataset = self.dm_subjects if self.dm_group else self.cg_subjects\n",
    "        return list(map(lambda x: os.path.basename(x), dataset))\n",
    "\n",
    "    def get_subject(self, idx, data:DFUData):\n",
    "        dataset = self.dm_subjects if self.dm_group else self.cg_subjects\n",
    "\n",
    "        subject = os.path.basename(dataset[idx])\n",
    "        path = os.path.join(dataset[idx], 'Angiosoms') if data.value > 1 else dataset[idx]\n",
    "        return pd.read_csv(os.path.join(path, subject + '_' + data.name + '.csv'), header=None).astype('float32')\n",
    "\n",
    "    \n",
    "def temperature_cg_values(angiosom: DFUData):\n",
    "    data = [-1, -1, 26.1, 26.1, 25.7, 25.7, 26.4, 26.4, 25.8, 25.8]\n",
    "    return data[angiosom.value]"
   ]
  },
  {
   "cell_type": "code",
   "execution_count": null,
   "metadata": {},
   "outputs": [],
   "source": [
    "def estimated_temperature(hist: np.ndarray, cluster: np.ndarray):\n",
    "    argmax = np.argmax(hist)\n",
    "    et_hist = hist[[argmax-1, argmax, argmax+2]]\n",
    "    et_cluster = cluster[[argmax-1, argmax, argmax+2]]\n",
    "    return np.sum(et_hist * et_cluster) / np.sum(et_hist)\n",
    "\n",
    "def estimated_temperature_difference(left_et_angiosome, right_et_angiosome):\n",
    "    return np.abs(left_et_angiosome - right_et_angiosome)\n",
    "\n",
    "def hot_spot_estimator(hist:np.ndarray, cluster:np.ndarray):\n",
    "    argmax = np.argmax(hist)\n",
    "    et = estimated_temperature(hist, cluster)\n",
    "    return np.abs(cluster[argmax] - et)\n",
    "\n",
    "def thermal_change_index(data: np.ndarray, angiosom: np.ndarray):\n",
    "    \n",
    "    pass\n"
   ]
  },
  {
   "cell_type": "code",
   "execution_count": null,
   "metadata": {},
   "outputs": [],
   "source": [
    "dm_group = False\n",
    "save_path = 'data/DM' if dm_group else 'data/CG'\n",
    "\n",
    "dataset = INAOEDataset(config.INAOE_DATASET_DIR, dm_group=dm_group)"
   ]
  },
  {
   "cell_type": "code",
   "execution_count": null,
   "metadata": {},
   "outputs": [],
   "source": [
    "from scipy.stats import skew, kurtosis\n",
    "\n",
    "def get_metrics(dataset, data:DFUData):\n",
    "    subjects = dataset.get_subjects_names()\n",
    "    mean_data = []\n",
    "    std_data = []\n",
    "    max_data = []\n",
    "    min_data = []\n",
    "    skew_data = []\n",
    "    kurtosis_data = []\n",
    "    expected_temerature_data = []\n",
    "    hot_spot_data = []\n",
    "    metrics = []\n",
    "\n",
    "    fulldata = None\n",
    "    for idx in range(len(dataset)):\n",
    "        # data = dataset.get_subject(idx, data).to_numpy()\n",
    "        subject_data = dataset.get_subject(idx, data).to_numpy()\n",
    "        subject_data = subject_data[subject_data>18] # Remove background\n",
    "        mean_data.append(subject_data.mean())\n",
    "        std_data.append(subject_data.std())\n",
    "        max_data.append(subject_data.max())\n",
    "        min_data.append(subject_data.min())\n",
    "        skew_data.append(skew(subject_data))\n",
    "        kurtosis_data.append(kurtosis(subject_data))\n",
    "\n",
    "        hist, _ = np.histogram(subject_data, bins=config.EXPECTED_VALUE_INTERVAL)\n",
    "        expected_temerature_data.append(estimated_temperature(hist, config.EXPECTED_VALUE_CLUSTER))\n",
    "        hot_spot_data.append(hot_spot_estimator(hist, config.EXPECTED_VALUE_CLUSTER))\n",
    "\n",
    "    metrics = {'Subject': subjects,\n",
    "        '{}_mean'.format(data.name): mean_data, \n",
    "        '{}_std'.format(data.name): std_data,\n",
    "        '{}_min'.format(data.name): min_data,\n",
    "        '{}_max'.format(data.name): max_data,\n",
    "        '{}_skew'.format(data.name): skew_data,\n",
    "        '{}_kurtosis'.format(data.name): kurtosis_data,\n",
    "        '{}_HSE'.format(data.name): hot_spot_data,\n",
    "        '{}_ET'.format(data.name): expected_temerature_data\n",
    "    }\n",
    "\n",
    "    return pd.DataFrame(metrics)"
   ]
  },
  {
   "cell_type": "markdown",
   "metadata": {},
   "source": [
    "## Qualitative Test"
   ]
  },
  {
   "cell_type": "code",
   "execution_count": null,
   "metadata": {},
   "outputs": [],
   "source": [
    "plt.figure(figsize=(16, 8))\n",
    "for i in range(len(dataset)):\n",
    "    plt.subplot(5, 15, i+1)\n",
    "    data = dataset.get_subject(i, DFUData.L_LCA)\n",
    "    plt.imshow(data.to_numpy())\n",
    "    plt.xticks([])\n",
    "    plt.yticks([])\n",
    "    if i == (5*15)-1:\n",
    "        break\n",
    "\n",
    "plt.show()"
   ]
  },
  {
   "cell_type": "markdown",
   "metadata": {},
   "source": [
    "# MPA"
   ]
  },
  {
   "cell_type": "code",
   "execution_count": null,
   "metadata": {},
   "outputs": [],
   "source": [
    "l_mpa_metrics = get_metrics(dataset, DFUData.L_MPA)\n",
    "r_mpa_metrics = get_metrics(dataset, DFUData.R_MPA)\n",
    "\n",
    "# l_mpa_metrics.to_csv(os.path.join(save_path, 'MPA/L_MPA_metrics.csv'), index=False)\n",
    "# r_mpa_metrics.to_csv(os.path.join(save_path, 'MPA/R_MPA_metrics.csv'), index=False)\n",
    "\n",
    "mpa_metrics = pd.merge(l_mpa_metrics, r_mpa_metrics, on='Subject')\n",
    "ETD = estimated_temperature_difference(mpa_metrics['L_MPA_ET'], mpa_metrics['R_MPA_ET'])\n",
    "mpa_metrics['MPA_ETD'] = ETD\n",
    "\n",
    "mpa_metrics.to_csv(os.path.join(save_path, 'MPA/MPA_metrics.csv'), index=False)"
   ]
  },
  {
   "cell_type": "markdown",
   "metadata": {},
   "source": [
    "# LCA"
   ]
  },
  {
   "cell_type": "code",
   "execution_count": null,
   "metadata": {},
   "outputs": [],
   "source": [
    "l_lca_metrics = get_metrics(dataset, DFUData.L_LCA)\n",
    "r_lca_metrics = get_metrics(dataset, DFUData.R_LCA)\n",
    "\n",
    "# l_lca_metrics.to_csv(os.path.join(save_path, 'LCA/L_LCA_metrics.csv'), index=False)\n",
    "# r_lca_metrics.to_csv(os.path.join(save_path, 'LCA/R_LCA_metrics.csv'), index=False)\n",
    "\n",
    "lca_metrics = pd.merge(l_lca_metrics, r_lca_metrics, on='Subject')\n",
    "ETD = estimated_temperature_difference(lca_metrics['L_LCA_ET'], lca_metrics['R_LCA_ET'])\n",
    "lca_metrics['LCA_ETD'] = ETD\n",
    "\n",
    "lca_metrics.to_csv(os.path.join(save_path, 'LCA/LCA_metrics.csv'), index=False)"
   ]
  },
  {
   "cell_type": "markdown",
   "metadata": {},
   "source": [
    "# LPA"
   ]
  },
  {
   "cell_type": "code",
   "execution_count": null,
   "metadata": {},
   "outputs": [],
   "source": [
    "l_lpa_metrics = get_metrics(dataset, DFUData.L_LPA)\n",
    "r_lpa_metrics = get_metrics(dataset, DFUData.R_LPA)\n",
    "\n",
    "# l_lpa_metrics.to_csv(os.path.join(save_path, 'LPA/L_LPA_metrics.csv'), index=False)\n",
    "# r_lpa_metrics.to_csv(os.path.join(save_path, 'LPA/R_LPA_metrics.csv'), index=False)\n",
    "\n",
    "lpa_metrics = pd.merge(l_lpa_metrics, r_lpa_metrics, on='Subject')\n",
    "ETD = estimated_temperature_difference(lpa_metrics['L_LPA_ET'], lpa_metrics['R_LPA_ET'])\n",
    "lpa_metrics['LPA_ETD'] = ETD\n",
    "\n",
    "lpa_metrics.to_csv(os.path.join(save_path, 'LPA/LPA_metrics.csv'), index=False)"
   ]
  },
  {
   "cell_type": "markdown",
   "metadata": {},
   "source": [
    "# MCA"
   ]
  },
  {
   "cell_type": "code",
   "execution_count": null,
   "metadata": {},
   "outputs": [],
   "source": [
    "l_mca_metrics = get_metrics(dataset, DFUData.L_MCA)\n",
    "r_mca_metrics = get_metrics(dataset, DFUData.R_MCA)\n",
    "\n",
    "# l_mca_metrics.to_csv(os.path.join(save_path, 'MCA/L_MCA_metrics.csv'), index=False)\n",
    "# r_mca_metrics.to_csv(os.path.join(save_path, 'MCA/R_MCA_metrics.csv'), index=False)\n",
    "\n",
    "mca_metrics = pd.merge(l_mca_metrics, r_mca_metrics, on='Subject')\n",
    "ETD = estimated_temperature_difference(mca_metrics['L_MCA_ET'], mca_metrics['R_MCA_ET'])\n",
    "mca_metrics['MCA_ETD'] = ETD\n",
    "\n",
    "mca_metrics.to_csv(os.path.join(save_path, 'MCA/MCA_metrics.csv'), index=False)"
   ]
  },
  {
   "cell_type": "markdown",
   "metadata": {},
   "source": [
    "# Merge"
   ]
  },
  {
   "cell_type": "code",
   "execution_count": null,
   "metadata": {},
   "outputs": [],
   "source": [
    "from functools import reduce \n",
    "\n",
    "angiosomes_df = reduce(lambda left,right: pd.merge(left,right,on='Subject'), [mpa_metrics, lca_metrics, lpa_metrics, mca_metrics])\n",
    "\n",
    "group = 'dm' if dm_group else 'cg'\n",
    "angiosomes_df.to_csv(os.path.join(save_path, '{}_metrics.csv'.format(group)), index=False)"
   ]
  },
  {
   "cell_type": "code",
   "execution_count": null,
   "metadata": {},
   "outputs": [],
   "source": [
    "columns = list(map(lambda x: '{}_mean'.format(x.name), angiosomes[0]))\n",
    "control_temperature = list(map(lambda x: temperature_cg_values(x), angiosomes[0]))\n",
    "tci = (np.abs(control_temperature - angiosomes_df[columns].to_numpy())).mean(axis=1)\n",
    "tci\n",
    "\n",
    "def temperature_cg_values(angiosomes: DFUData):\n",
    "    data = [-1, -1, 26.1, 26.1, 25.7, 25.7, 26.4, 26.4, 25.8, 25.8]\n",
    "    if isinstance(angiosomes, list):\n",
    "        return np.array(list(map(lambda x: data[x.value], angiosomes)))\n",
    "    else:\n",
    "        return data[angiosomes.value]\n",
    "\n",
    "def thermal_change_index(angiosomes_df: pd.DataFrame):\n",
    "    feet_angiosomes = [[DFUData.L_LCA, DFUData.L_LPA, DFUData.L_MCA, DFUData.L_MPA], [DFUData.R_LCA, DFUData.R_LPA, DFUData.R_MCA, DFUData.R_MPA]]\n",
    "\n",
    "    tci = []\n",
    "    for foot_angiosomes in feet_angiosomes:\n",
    "        columns = list(map(lambda x: '{}_mean'.format(x.name), foot_angiosomes))\n",
    "        control_temperature = temperature_cg_values(foot_angiosomes)\n",
    "        tci.append((np.abs(control_temperature - angiosomes_df[columns].to_numpy())).mean(axis=1))\n",
    "    \n",
    "    return tci\n",
    "\n",
    "left_tci, right_tci = thermal_change_index(angiosomes_df)\n",
    "\n",
    "angiosomes_df['L_TCI'] = left_tci\n",
    "angiosomes_df['R_TCI'] = right_tci    \n",
    "\n",
    "group = 'dm' if dm_group else 'cg'\n",
    "angiosomes_df.to_csv(os.path.join(save_path, '{}_metrics.csv'.format(group)), index=False)"
   ]
  },
  {
   "cell_type": "code",
   "execution_count": null,
   "metadata": {},
   "outputs": [],
   "source": [
    "angiosomes_df"
   ]
  },
  {
   "cell_type": "markdown",
   "metadata": {},
   "source": [
    "# Full Foot"
   ]
  },
  {
   "cell_type": "code",
   "execution_count": null,
   "metadata": {},
   "outputs": [],
   "source": [
    "l_metrics = get_metrics(dataset, DFUData.L)\n",
    "r_metrics = get_metrics(dataset, DFUData.R)\n",
    "\n",
    "l_metrics.to_csv(os.path.join(save_path, 'Full/L_metrics.csv'), index=False)\n",
    "r_metrics.to_csv(os.path.join(save_path, 'Full/R_metrics.csv'), index=False)\n",
    "\n",
    "full_metrics = pd.merge(l_metrics, r_metrics, on='Subject')\n",
    "ETD = estimated_temperature_difference(full_metrics['L_ET'], full_metrics['R_ET'])\n",
    "full_metrics['ETD'] = ETD\n",
    "\n",
    "full_metrics.to_csv(os.path.join(save_path, 'Full/Full_metrics.csv'), index=False)"
   ]
  },
  {
   "cell_type": "markdown",
   "metadata": {},
   "source": [
    "# Angiosomes Metrics"
   ]
  },
  {
   "cell_type": "code",
   "execution_count": null,
   "metadata": {},
   "outputs": [],
   "source": [
    "def angiosomes_metrics(dataset):\n",
    "    angiosomes = [[DFUData.L_LCA, DFUData.R_LCA], [DFUData.L_LPA, DFUData.R_LPA], [DFUData.L_MCA, DFUData.R_MCA], [DFUData.L_MPA, DFUData.R_MPA]]\n",
    "    \n",
    "    angiosomes_names = ['LCA', 'LPA', 'MCA', 'MPA']\n",
    "    subjects = dataset.get_subjects_names()\n",
    "\n",
    "    for ang_idx, (left, right) in enumerate(angiosomes):\n",
    "        mean_data = []\n",
    "        std_data = []\n",
    "        max_data = []\n",
    "        min_data = []\n",
    "        skew_data = []\n",
    "        kurtosis_data = []\n",
    "        current_angiosom = angiosomes_names[ang_idx]\n",
    "        for idx in range(len(dataset)):\n",
    "            l_data = dataset.get_subject(idx, left).to_numpy()\n",
    "            r_data = dataset.get_subject(idx, right).to_numpy() \n",
    "\n",
    "            l_data = l_data[l_data>0.5] # Remove background\n",
    "            r_data = r_data[r_data>0.5] # Remove background\n",
    "            data = np.concatenate((l_data, r_data))\n",
    "\n",
    "            mean_data.append(data.mean())\n",
    "            std_data.append(data.std())\n",
    "            max_data.append(data.max())\n",
    "            min_data.append(data.min())\n",
    "            skew_data.append(skew(data))\n",
    "            kurtosis_data.append(kurtosis(data))\n",
    "\n",
    "        metrics = {'Subjects': subjects,\n",
    "            'mean': mean_data, \n",
    "            'std': std_data,\n",
    "            'min': min_data,\n",
    "            'max': max_data,\n",
    "            'skew': skew_data,\n",
    "            'kurtosis': kurtosis_data}\n",
    "\n",
    "        df = pd.DataFrame(metrics)\n",
    "        print(os.path.join(save_path, '{}/{}_metrics.csv'.format(current_angiosom, current_angiosom)))\n",
    "        df.to_csv(os.path.join(save_path, '{}/General_{}_metrics.csv'.format(current_angiosom, current_angiosom)), index=False)"
   ]
  },
  {
   "cell_type": "code",
   "execution_count": null,
   "metadata": {},
   "outputs": [],
   "source": [
    "angiosomes_metrics(dataset)"
   ]
  },
  {
   "cell_type": "markdown",
   "metadata": {},
   "source": [
    "# General"
   ]
  },
  {
   "cell_type": "code",
   "execution_count": null,
   "metadata": {},
   "outputs": [],
   "source": [
    "angiosomes = ['LCA', 'LPA', 'MCA', 'MPA']\n",
    "mean_values = []\n",
    "std_values = []\n",
    "max_values = []\n",
    "min_values = []\n",
    "\n",
    "for angiosome in angiosomes:\n",
    "    df = pd.read_csv(os.path.join(save_path, '{}/General_{}_metrics.csv'.format(angiosome, angiosome)))\n",
    "    data = df['mean'].to_numpy()\n",
    "    mean_values.append(data.mean())\n",
    "    std_values.append(data.std())\n",
    "    max_values.append(data.max())\n",
    "    min_values.append(data.min())\n",
    "    \n",
    "metrics = {'angiosome': angiosomes,\n",
    "        'mean': mean_values, \n",
    "        'std': std_values,\n",
    "        'min': min_values,\n",
    "        'max': max_values\n",
    "    }\n",
    "\n",
    "df = pd.DataFrame(metrics)\n",
    "df.to_csv(os.path.join(save_path, 'General_metrics.csv'), index=False)"
   ]
  },
  {
   "cell_type": "code",
   "execution_count": null,
   "metadata": {},
   "outputs": [],
   "source": [
    "df = pd.read_csv('data/LCA/L_LCA_metrics.csv') \n",
    "df.iloc[:, 1].mean()"
   ]
  },
  {
   "cell_type": "code",
   "execution_count": null,
   "metadata": {},
   "outputs": [],
   "source": [
    "df = pd.read_csv('data/LCA/R_LCA_metrics.csv') \n",
    "df.iloc[:, 1].mean()"
   ]
  },
  {
   "cell_type": "code",
   "execution_count": null,
   "metadata": {},
   "outputs": [],
   "source": [
    "df1 = pd.read_csv('data/MPA/L_MPA_metrics.csv') \n",
    "df1.iloc[:, 1].mean()"
   ]
  },
  {
   "cell_type": "code",
   "execution_count": null,
   "metadata": {},
   "outputs": [],
   "source": [
    "df2 = pd.read_csv('data/MPA/R_MPA_metrics.csv') \n",
    "df2.iloc[:, 1].mean()"
   ]
  },
  {
   "cell_type": "code",
   "execution_count": null,
   "metadata": {},
   "outputs": [],
   "source": [
    "pd.merge(df1, df2, on='Subject')"
   ]
  },
  {
   "cell_type": "code",
   "execution_count": null,
   "metadata": {},
   "outputs": [],
   "source": [
    "df1"
   ]
  },
  {
   "cell_type": "code",
   "execution_count": null,
   "metadata": {},
   "outputs": [],
   "source": [
    "test = np.random.rand(10)\n",
    "test[[0-1, 0, 0+1]]"
   ]
  },
  {
   "cell_type": "code",
   "execution_count": null,
   "metadata": {},
   "outputs": [],
   "source": []
  }
 ],
 "metadata": {
  "kernelspec": {
   "display_name": "Python 3.10.4 ('DeepLearning')",
   "language": "python",
   "name": "python3"
  },
  "language_info": {
   "codemirror_mode": {
    "name": "ipython",
    "version": 3
   },
   "file_extension": ".py",
   "mimetype": "text/x-python",
   "name": "python",
   "nbconvert_exporter": "python",
   "pygments_lexer": "ipython3",
   "version": "3.10.4"
  },
  "orig_nbformat": 4,
  "vscode": {
   "interpreter": {
    "hash": "1d9b8aa8d774518be7ebcfd06a2463a8035a66798fac49b1a363f570d2d8622e"
   }
  }
 },
 "nbformat": 4,
 "nbformat_minor": 2
}
