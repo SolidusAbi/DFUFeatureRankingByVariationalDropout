{
 "cells": [
  {
   "cell_type": "code",
   "execution_count": null,
   "metadata": {},
   "outputs": [],
   "source": [
    "import os\n",
    "from matplotlib import pyplot as plt\n",
    "import numpy as np\n",
    "import pandas as pd\n",
    "import config"
   ]
  },
  {
   "cell_type": "code",
   "execution_count": null,
   "metadata": {},
   "outputs": [],
   "source": [
    "from enum import Enum\n",
    "class DFUData(Enum):\n",
    "    L = 0 # Left Foot\n",
    "    R = 1 # Right Foot\n",
    "    L_LCA = 2  # Angiosom LCA Left Foot \n",
    "    R_LCA = 3  # Angiosom LCA Right Foot\n",
    "    L_LPA = 4  # Angiosom LPA Left Foot \n",
    "    R_LPA = 5  # Angiosom LPA Right Foot \n",
    "    L_MCA = 6  # Angiosom MCA Left Foot \n",
    "    R_MCA = 7  # Angiosom MCA Right Foot \n",
    "    L_MPA = 8  # Angiosom MPA Left Foot \n",
    "    R_MPA = 9  # Angiosom MPA Right Foot \n",
    "\n",
    "\n",
    "class INAOEDataset():\n",
    "    def __init__(self, root_path, dm_group = False):\n",
    "        cg_path = os.path.join(root_path, 'Control Group')\n",
    "        dm_path = os.path.join(root_path, 'DM Group')\n",
    "\n",
    "        self.dm_group = dm_group\n",
    "\n",
    "        self.cg_subjects = sorted(list(map(lambda x: os.path.join(cg_path, x), os.listdir(cg_path))))\n",
    "        self.dm_subjects = sorted(list(map(lambda x: os.path.join(dm_path, x), os.listdir(dm_path))))\n",
    "\n",
    "    def set_group(self, dm_group):\n",
    "        self.dm_group = dm_group\n",
    "\n",
    "    def __len__(self):\n",
    "        if self.dm_group:\n",
    "            return len(self.dm_subjects)\n",
    "        \n",
    "        return len(self.cg_subjects) \n",
    "\n",
    "    def get_subjects_names(self):\n",
    "        dataset = self.dm_subjects if self.dm_group else self.cg_subjects\n",
    "        return list(map(lambda x: os.path.basename(x), dataset))\n",
    "\n",
    "    def get_subject(self, idx, data:DFUData):\n",
    "        dataset = self.dm_subjects if self.dm_group else self.cg_subjects\n",
    "\n",
    "        subject = os.path.basename(dataset[idx])\n",
    "        path = os.path.join(dataset[idx], 'Angiosoms') if data.value > 1 else dataset[idx]\n",
    "        return pd.read_csv(os.path.join(path, subject + '_' + data.name + '.csv'), header=None).astype('float32')"
   ]
  },
  {
   "cell_type": "code",
   "execution_count": null,
   "metadata": {},
   "outputs": [],
   "source": [
    "dataset = INAOEDataset(config.INAOE_DATASET_DIR)"
   ]
  },
  {
   "cell_type": "code",
   "execution_count": null,
   "metadata": {},
   "outputs": [],
   "source": [
    "from scipy.stats import skew, kurtosis\n",
    "\n",
    "def get_metrics(dataset, data:DFUData):\n",
    "    subjects = dataset.get_subjects_names()\n",
    "    mean_data = []\n",
    "    std_data = []\n",
    "    max_data = []\n",
    "    min_data = []\n",
    "    skew_data = []\n",
    "    kurtosis_data = []\n",
    "    metrics = []\n",
    "\n",
    "    fulldata = None\n",
    "    for idx in range(len(dataset)):\n",
    "        # data = dataset.get_subject(idx, data).to_numpy()\n",
    "        subject_data = dataset.get_subject(idx, data).to_numpy()\n",
    "        subject_data = subject_data[subject_data>0.5] # Remove background\n",
    "        mean_data.append(subject_data.mean())\n",
    "        std_data.append(subject_data.std())\n",
    "        max_data.append(subject_data.max())\n",
    "        min_data.append(subject_data.min())\n",
    "        skew_data.append(skew(subject_data))\n",
    "        kurtosis_data.append(kurtosis(subject_data))\n",
    "\n",
    "    metrics = {'Subject': subjects,\n",
    "        '{}_mean'.format(data.name): mean_data, \n",
    "        '{}_std'.format(data.name): std_data,\n",
    "        '{}_min'.format(data.name): min_data,\n",
    "        '{}_max'.format(data.name): max_data,\n",
    "        '{}_skew'.format(data.name): skew_data,\n",
    "        '{}_kurtosis'.format(data.name): kurtosis_data}\n",
    "\n",
    "    return pd.DataFrame(metrics)"
   ]
  },
  {
   "cell_type": "markdown",
   "metadata": {},
   "source": [
    "## Qualitative Test"
   ]
  },
  {
   "cell_type": "code",
   "execution_count": null,
   "metadata": {},
   "outputs": [],
   "source": [
    "plt.figure(figsize=(16, 8))\n",
    "for i in range(len(dataset)):\n",
    "    plt.subplot(5, 15, i+1)\n",
    "    data = dataset.get_subject(i, DFUData.L_LCA)\n",
    "    plt.imshow(data.to_numpy())\n",
    "    plt.xticks([])\n",
    "    plt.yticks([])\n",
    "\n",
    "plt.show()"
   ]
  },
  {
   "cell_type": "markdown",
   "metadata": {},
   "source": [
    "# MPA"
   ]
  },
  {
   "cell_type": "code",
   "execution_count": null,
   "metadata": {},
   "outputs": [],
   "source": [
    "l_mpa_metrics = get_metrics(dataset, DFUData.L_MPA)\n",
    "r_mpa_metrics = get_metrics(dataset, DFUData.R_MPA)\n",
    "\n",
    "l_mpa_metrics.to_csv('data/MPA/L_MPA_metrics.csv', index=False)\n",
    "r_mpa_metrics.to_csv('data/MPA/R_MPA_metrics.csv', index=False)"
   ]
  },
  {
   "cell_type": "markdown",
   "metadata": {},
   "source": [
    "# LCA"
   ]
  },
  {
   "cell_type": "code",
   "execution_count": null,
   "metadata": {},
   "outputs": [],
   "source": [
    "l_lca_metrics = get_metrics(dataset, DFUData.L_LCA)\n",
    "r_lca_metrics = get_metrics(dataset, DFUData.R_LCA)\n",
    "\n",
    "l_lca_metrics.to_csv('data/LCA/L_LCA_metrics.csv', index=False)\n",
    "r_lca_metrics.to_csv('data/LCA/R_LCA_metrics.csv', index=False)"
   ]
  },
  {
   "cell_type": "markdown",
   "metadata": {},
   "source": [
    "# LPA"
   ]
  },
  {
   "cell_type": "code",
   "execution_count": null,
   "metadata": {},
   "outputs": [],
   "source": [
    "l_lpa_metrics = get_metrics(dataset, DFUData.L_LPA)\n",
    "r_lpa_metrics = get_metrics(dataset, DFUData.R_LPA)\n",
    "\n",
    "l_lpa_metrics.to_csv('data/LPA/L_LPA_metrics.csv', index=False)\n",
    "r_lpa_metrics.to_csv('data/LPA/R_LPA_metrics.csv', index=False)"
   ]
  },
  {
   "cell_type": "markdown",
   "metadata": {},
   "source": [
    "# MCA"
   ]
  },
  {
   "cell_type": "code",
   "execution_count": null,
   "metadata": {},
   "outputs": [],
   "source": [
    "l_mca_metrics = get_metrics(dataset, DFUData.L_MCA)\n",
    "r_mca_metrics = get_metrics(dataset, DFUData.R_MCA)\n",
    "\n",
    "l_mca_metrics.to_csv('data/MCA/L_MCA_metrics.csv', index=False)\n",
    "r_mca_metrics.to_csv('data/MCA/R_MCA_metrics.csv', index=False)"
   ]
  },
  {
   "cell_type": "markdown",
   "metadata": {},
   "source": [
    "# Merge"
   ]
  },
  {
   "cell_type": "markdown",
   "metadata": {},
   "source": [
    "# Full Foot"
   ]
  },
  {
   "cell_type": "code",
   "execution_count": null,
   "metadata": {},
   "outputs": [],
   "source": [
    "l_metrics = get_metrics(dataset, DFUData.L)\n",
    "r_metrics = get_metrics(dataset, DFUData.R)\n",
    "\n",
    "l_metrics.to_csv('data/Full/L_metrics.csv', index=False)\n",
    "r_metrics.to_csv('data/Full/R_metrics.csv', index=False)"
   ]
  },
  {
   "cell_type": "markdown",
   "metadata": {},
   "source": [
    "# Angiosomes Metrics"
   ]
  },
  {
   "cell_type": "code",
   "execution_count": null,
   "metadata": {},
   "outputs": [],
   "source": [
    "def angiosomes_metrics(dataset):\n",
    "    angiosomes = [[DFUData.L_LCA, DFUData.R_LCA], [DFUData.L_LPA, DFUData.R_LPA], [DFUData.L_MCA, DFUData.R_MCA], [DFUData.L_MPA, DFUData.R_MPA]]\n",
    "    \n",
    "    angiosomes_names = ['LCA', 'LPA', 'MCA', 'MPA']\n",
    "    subjects = dataset.get_subjects_names()\n",
    "\n",
    "    for ang_idx, (left, right) in enumerate(angiosomes):\n",
    "        mean_data = []\n",
    "        std_data = []\n",
    "        max_data = []\n",
    "        min_data = []\n",
    "        skew_data = []\n",
    "        kurtosis_data = []\n",
    "        current_angiosom = angiosomes_names[ang_idx]\n",
    "        for idx in range(len(dataset)):\n",
    "            l_data = dataset.get_subject(idx, left).to_numpy()\n",
    "            r_data = dataset.get_subject(idx, right).to_numpy() \n",
    "\n",
    "            l_data = l_data[l_data>0.5] # Remove background\n",
    "            r_data = r_data[r_data>0.5] # Remove background\n",
    "            data = np.concatenate((l_data, r_data))\n",
    "\n",
    "            mean_data.append(data.mean())\n",
    "            std_data.append(data.std())\n",
    "            max_data.append(data.max())\n",
    "            min_data.append(data.min())\n",
    "            skew_data.append(skew(data))\n",
    "            kurtosis_data.append(kurtosis(data))\n",
    "\n",
    "        metrics = {'Subjects': subjects,\n",
    "            'mean': mean_data, \n",
    "            'std': std_data,\n",
    "            'min': min_data,\n",
    "            'max': max_data,\n",
    "            'skew': skew_data,\n",
    "            'kurtosis': kurtosis_data}\n",
    "\n",
    "        df = pd.DataFrame(metrics)\n",
    "        print('data/{}/{}_metrics.csv'.format(current_angiosom, current_angiosom))\n",
    "        df.to_csv('data/{}/General_{}_metrics.csv'.format(current_angiosom, current_angiosom), index=False)"
   ]
  },
  {
   "cell_type": "code",
   "execution_count": null,
   "metadata": {},
   "outputs": [],
   "source": [
    "angiosomes_metrics(dataset)"
   ]
  },
  {
   "cell_type": "markdown",
   "metadata": {},
   "source": [
    "# General"
   ]
  },
  {
   "cell_type": "code",
   "execution_count": null,
   "metadata": {},
   "outputs": [],
   "source": [
    "angiosomes = ['LCA', 'LPA', 'MCA', 'MPA']\n",
    "mean_values = []\n",
    "std_values = []\n",
    "max_values = []\n",
    "min_values = []\n",
    "\n",
    "for angiosome in angiosomes:\n",
    "    df = pd.read_csv('data/{}/General_{}_metrics.csv'.format(angiosome, angiosome))\n",
    "    data = df['mean'].to_numpy()\n",
    "    mean_values.append(data.mean())\n",
    "    std_values.append(data.std())\n",
    "    max_values.append(data.max())\n",
    "    min_values.append(data.min())\n",
    "    \n",
    "metrics = {'angiosome': angiosomes,\n",
    "        'mean': mean_values, \n",
    "        'std': std_values,\n",
    "        'min': min_values,\n",
    "        'max': max_values\n",
    "    }\n",
    "\n",
    "df = pd.DataFrame(metrics)\n",
    "df.to_csv('data/General_metrics.csv', index=False)"
   ]
  },
  {
   "cell_type": "code",
   "execution_count": null,
   "metadata": {},
   "outputs": [],
   "source": [
    "df = pd.read_csv('data/LCA/L_LCA_metrics.csv') \n",
    "df.iloc[:, 1].mean()"
   ]
  },
  {
   "cell_type": "code",
   "execution_count": null,
   "metadata": {},
   "outputs": [],
   "source": [
    "df = pd.read_csv('data/LCA/R_LCA_metrics.csv') \n",
    "df.iloc[:, 1].mean()"
   ]
  },
  {
   "cell_type": "code",
   "execution_count": null,
   "metadata": {},
   "outputs": [],
   "source": [
    "df1 = pd.read_csv('data/MPA/L_MPA_metrics.csv') \n",
    "df1.iloc[:, 1].mean()"
   ]
  },
  {
   "cell_type": "code",
   "execution_count": null,
   "metadata": {},
   "outputs": [],
   "source": [
    "df2 = pd.read_csv('data/MPA/R_MPA_metrics.csv') \n",
    "df2.iloc[:, 1].mean()"
   ]
  },
  {
   "cell_type": "code",
   "execution_count": null,
   "metadata": {},
   "outputs": [],
   "source": [
    "pd.merge(df1, df2, on='Subject')"
   ]
  },
  {
   "cell_type": "code",
   "execution_count": null,
   "metadata": {},
   "outputs": [],
   "source": [
    "df1"
   ]
  },
  {
   "cell_type": "code",
   "execution_count": null,
   "metadata": {},
   "outputs": [],
   "source": []
  }
 ],
 "metadata": {
  "kernelspec": {
   "display_name": "Python 3.10.4 ('DeepLearning')",
   "language": "python",
   "name": "python3"
  },
  "language_info": {
   "codemirror_mode": {
    "name": "ipython",
    "version": 3
   },
   "file_extension": ".py",
   "mimetype": "text/x-python",
   "name": "python",
   "nbconvert_exporter": "python",
   "pygments_lexer": "ipython3",
   "version": "3.10.4"
  },
  "orig_nbformat": 4,
  "vscode": {
   "interpreter": {
    "hash": "1d9b8aa8d774518be7ebcfd06a2463a8035a66798fac49b1a363f570d2d8622e"
   }
  }
 },
 "nbformat": 4,
 "nbformat_minor": 2
}
