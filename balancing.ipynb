{
 "cells": [
  {
   "cell_type": "code",
   "execution_count": 7,
   "metadata": {},
   "outputs": [],
   "source": [
    "import pandas as pd\n",
    "\n",
    "X_df = pd.read_csv('data/dataset/dfu_features_dataset_selected.csv', index_col=0)\n",
    "y_df = pd.read_csv('data/dataset/dfu_labels_dataset.csv', index_col=0)"
   ]
  },
  {
   "cell_type": "code",
   "execution_count": 17,
   "metadata": {},
   "outputs": [
    {
     "name": "stdout",
     "output_type": "stream",
     "text": [
      "Original dataset shape Counter({1: 122, 0: 67})\n",
      "Resampled dataset shape Counter({0: 122, 1: 122})\n"
     ]
    }
   ],
   "source": [
    "from imblearn.over_sampling import SMOTE\n",
    "from collections import Counter\n",
    "\n",
    "X = X_df.to_numpy()\n",
    "y = y_df.to_numpy().ravel()\n",
    "print('Original dataset shape %s' % Counter(y))\n",
    "\n",
    "sm = SMOTE(random_state=42)\n",
    "X_res, y_res = sm.fit_resample(X, y)\n",
    "print('Resampled dataset shape %s' % Counter(y_res))\n",
    "\n",
    "# saving results in csv files, whith same index and same columns names\n",
    "X_res_df = pd.DataFrame(X_res, columns=X_df.columns)\n",
    "y_res_df = pd.DataFrame(y_res, columns=y_df.columns)\n",
    "\n",
    "X_res_df.to_csv('data/dataset/oversampling/dfu_features_dataset_selected_balanced.csv')\n",
    "y_res_df.to_csv('data/dataset/oversampling/dfu_labels_dataset.csv')"
   ]
  },
  {
   "cell_type": "code",
   "execution_count": null,
   "metadata": {},
   "outputs": [],
   "source": []
  }
 ],
 "metadata": {
  "kernelspec": {
   "display_name": "Python 3.10.4 ('DeepLearning')",
   "language": "python",
   "name": "python3"
  },
  "language_info": {
   "codemirror_mode": {
    "name": "ipython",
    "version": 3
   },
   "file_extension": ".py",
   "mimetype": "text/x-python",
   "name": "python",
   "nbconvert_exporter": "python",
   "pygments_lexer": "ipython3",
   "version": "3.10.4"
  },
  "orig_nbformat": 4,
  "vscode": {
   "interpreter": {
    "hash": "1d9b8aa8d774518be7ebcfd06a2463a8035a66798fac49b1a363f570d2d8622e"
   }
  }
 },
 "nbformat": 4,
 "nbformat_minor": 2
}
