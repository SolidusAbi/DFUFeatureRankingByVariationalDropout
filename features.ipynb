{
 "cells": [
  {
   "cell_type": "code",
   "execution_count": null,
   "metadata": {},
   "outputs": [],
   "source": [
    "import os\n",
    "from matplotlib import pyplot as plt\n",
    "import numpy as np\n",
    "import pandas as pd\n",
    "import config\n",
    "from dataset import INAOEDataset, DFUData"
   ]
  },
  {
   "cell_type": "markdown",
   "metadata": {},
   "source": [
    "This notebook is used in order to extract the features from the Dataset. Now It is just tested in the INAOE dataset."
   ]
  },
  {
   "cell_type": "code",
   "execution_count": null,
   "metadata": {},
   "outputs": [],
   "source": [
    "# Estimated Temperature (ET)\n",
    "def estimated_temperature(hist: np.ndarray, cluster: np.ndarray):\n",
    "    argmax = np.argmax(hist)\n",
    "    if argmax < len(cluster) - 1:\n",
    "        et_hist = hist[[argmax-1, argmax, argmax+1]]\n",
    "        et_cluster = cluster[[argmax-1, argmax, argmax+1]]\n",
    "    else:\n",
    "        et_hist = hist[[argmax-1, argmax]]\n",
    "        et_cluster = cluster[[argmax-1, argmax]]\n",
    "    # et_cluster = cluster[[argmax-1, argmax, argmax+2]]\n",
    "    return np.sum(et_hist * et_cluster) / np.sum(et_hist)\n",
    "\n",
    "# Estimated Temperature difference (ETD)\n",
    "def estimated_temperature_difference(left_et_angiosome, right_et_angiosome):\n",
    "    return np.abs(left_et_angiosome - right_et_angiosome)\n",
    "\n",
    "# Hot Pot Estimator\n",
    "def hot_spot_estimator(hist:np.ndarray, cluster:np.ndarray):\n",
    "    argmax = np.argmax(hist)\n",
    "    et = estimated_temperature(hist, cluster)\n",
    "    return np.abs(cluster[argmax] - et)\n"
   ]
  },
  {
   "cell_type": "markdown",
   "metadata": {},
   "source": [
    "# INAOE Dataset"
   ]
  },
  {
   "cell_type": "code",
   "execution_count": null,
   "metadata": {},
   "outputs": [],
   "source": [
    "dm_group = True\n",
    "save_path = 'data/DM' if dm_group else 'data/CG'\n",
    "\n",
    "dataset = INAOEDataset(config.INAOE_DATASET_DIR, dm_group=dm_group)"
   ]
  },
  {
   "cell_type": "code",
   "execution_count": null,
   "metadata": {},
   "outputs": [],
   "source": [
    "from scipy.stats import skew, kurtosis\n",
    "\n",
    "def get_metrics(dataset, data:DFUData):\n",
    "    subjects = dataset.get_subjects_names()\n",
    "    mean_data = []\n",
    "    std_data = []\n",
    "    max_data = []\n",
    "    min_data = []\n",
    "    skew_data = []\n",
    "    kurtosis_data = []\n",
    "    expected_temerature_data = []\n",
    "    hot_spot_data = []\n",
    "    metrics = []\n",
    "    nrt_c0, nrt_c1, nrt_c2, nrt_c3, nrt_c4, nrt_c5, nrt_c6, nrt_c7 = [], [], [], [], [], [], [], []\n",
    "\n",
    "    fulldata = None\n",
    "    for idx in range(len(dataset)):\n",
    "        subject_data = dataset.get_subject(idx, data).to_numpy()\n",
    "        subject_data = subject_data[subject_data>18] # Remove background, temperatures lower than 18 are considered outliers!\n",
    "        mean_data.append(subject_data.mean())\n",
    "        std_data.append(subject_data.std())\n",
    "        max_data.append(subject_data.max())\n",
    "        min_data.append(subject_data.min())\n",
    "        skew_data.append(skew(subject_data))\n",
    "        kurtosis_data.append(kurtosis(subject_data))\n",
    "\n",
    "        hist, _ = np.histogram(subject_data, bins=config.EXPECTED_VALUE_INTERVAL)\n",
    "    \n",
    "        # NRTClass\n",
    "        nrt_class = hist / hist.sum()\n",
    "        nrt_c0.append(nrt_class[0])\n",
    "        nrt_c1.append(nrt_class[1])\n",
    "        nrt_c2.append(nrt_class[2])\n",
    "        nrt_c3.append(nrt_class[3])\n",
    "        nrt_c4.append(nrt_class[4])\n",
    "        nrt_c5.append(nrt_class[5])\n",
    "        nrt_c6.append(nrt_class[6])\n",
    "        nrt_c7.append(nrt_class[7])\n",
    "    \n",
    "        # Expected Temperature (ET) and Hot Spot Estimator\n",
    "        expected_temerature_data.append(estimated_temperature(hist, config.EXPECTED_VALUE_CLUSTER))\n",
    "        hot_spot_data.append(hot_spot_estimator(hist, config.EXPECTED_VALUE_CLUSTER))\n",
    "\n",
    "    metrics = {'Subject': subjects,\n",
    "        '{}_mean'.format(data.name): mean_data, \n",
    "        '{}_std'.format(data.name): std_data,\n",
    "        '{}_min'.format(data.name): min_data,\n",
    "        '{}_max'.format(data.name): max_data,\n",
    "        '{}_skew'.format(data.name): skew_data,\n",
    "        '{}_kurtosis'.format(data.name): kurtosis_data,\n",
    "        '{}_NRT_C0'.format(data.name): nrt_c0,\n",
    "        '{}_NRT_C1'.format(data.name): nrt_c1,\n",
    "        '{}_NRT_C2'.format(data.name): nrt_c2,\n",
    "        '{}_NRT_C3'.format(data.name): nrt_c3,\n",
    "        '{}_NRT_C4'.format(data.name): nrt_c4,\n",
    "        '{}_NRT_C5'.format(data.name): nrt_c5,\n",
    "        '{}_NRT_C6'.format(data.name): nrt_c6,\n",
    "        '{}_NRT_C7'.format(data.name): nrt_c7,\n",
    "        '{}_HSE'.format(data.name): hot_spot_data,\n",
    "        '{}_ET'.format(data.name): expected_temerature_data,\n",
    "    }\n",
    "\n",
    "    return pd.DataFrame(metrics)"
   ]
  },
  {
   "cell_type": "markdown",
   "metadata": {},
   "source": [
    "## MPA"
   ]
  },
  {
   "cell_type": "code",
   "execution_count": null,
   "metadata": {},
   "outputs": [],
   "source": [
    "l_mpa_metrics = get_metrics(dataset, DFUData.L_MPA)\n",
    "r_mpa_metrics = get_metrics(dataset, DFUData.R_MPA)\n",
    "\n",
    "mpa_metrics = pd.merge(l_mpa_metrics, r_mpa_metrics, on='Subject')\n",
    "ETD = estimated_temperature_difference(mpa_metrics['L_MPA_ET'], mpa_metrics['R_MPA_ET'])\n",
    "mpa_metrics['MPA_ETD'] = ETD\n",
    "\n",
    "mpa_metrics.to_csv(os.path.join(save_path, 'MPA/MPA_metrics.csv'), index=False)"
   ]
  },
  {
   "cell_type": "markdown",
   "metadata": {},
   "source": [
    "## LCA"
   ]
  },
  {
   "cell_type": "code",
   "execution_count": null,
   "metadata": {},
   "outputs": [],
   "source": [
    "l_lca_metrics = get_metrics(dataset, DFUData.L_LCA)\n",
    "r_lca_metrics = get_metrics(dataset, DFUData.R_LCA)\n",
    "\n",
    "lca_metrics = pd.merge(l_lca_metrics, r_lca_metrics, on='Subject')\n",
    "ETD = estimated_temperature_difference(lca_metrics['L_LCA_ET'], lca_metrics['R_LCA_ET'])\n",
    "lca_metrics['LCA_ETD'] = ETD\n",
    "\n",
    "lca_metrics.to_csv(os.path.join(save_path, 'LCA/LCA_metrics.csv'), index=False)"
   ]
  },
  {
   "cell_type": "markdown",
   "metadata": {},
   "source": [
    "## LPA"
   ]
  },
  {
   "cell_type": "code",
   "execution_count": null,
   "metadata": {},
   "outputs": [],
   "source": [
    "l_lpa_metrics = get_metrics(dataset, DFUData.L_LPA)\n",
    "r_lpa_metrics = get_metrics(dataset, DFUData.R_LPA)\n",
    "\n",
    "lpa_metrics = pd.merge(l_lpa_metrics, r_lpa_metrics, on='Subject')\n",
    "ETD = estimated_temperature_difference(lpa_metrics['L_LPA_ET'], lpa_metrics['R_LPA_ET'])\n",
    "lpa_metrics['LPA_ETD'] = ETD\n",
    "\n",
    "lpa_metrics.to_csv(os.path.join(save_path, 'LPA/LPA_metrics.csv'), index=False)"
   ]
  },
  {
   "cell_type": "markdown",
   "metadata": {},
   "source": [
    "## MCA"
   ]
  },
  {
   "cell_type": "code",
   "execution_count": null,
   "metadata": {},
   "outputs": [],
   "source": [
    "l_mca_metrics = get_metrics(dataset, DFUData.L_MCA)\n",
    "r_mca_metrics = get_metrics(dataset, DFUData.R_MCA)\n",
    "\n",
    "mca_metrics = pd.merge(l_mca_metrics, r_mca_metrics, on='Subject')\n",
    "ETD = estimated_temperature_difference(mca_metrics['L_MCA_ET'], mca_metrics['R_MCA_ET'])\n",
    "mca_metrics['MCA_ETD'] = ETD\n",
    "\n",
    "mca_metrics.to_csv(os.path.join(save_path, 'MCA/MCA_metrics.csv'), index=False)"
   ]
  },
  {
   "cell_type": "markdown",
   "metadata": {},
   "source": [
    "## Full Foot"
   ]
  },
  {
   "cell_type": "code",
   "execution_count": null,
   "metadata": {},
   "outputs": [],
   "source": [
    "l_metrics = get_metrics(dataset, DFUData.L)\n",
    "r_metrics = get_metrics(dataset, DFUData.R)\n",
    "\n",
    "full_metrics = pd.merge(l_metrics, r_metrics, on='Subject')\n",
    "ETD = estimated_temperature_difference(full_metrics['L_ET'], full_metrics['R_ET'])\n",
    "full_metrics['Foot_ETD'] = ETD\n",
    "\n",
    "full_metrics.to_csv(os.path.join(save_path, 'Full/Full_metrics.csv'), index=False)"
   ]
  },
  {
   "cell_type": "code",
   "execution_count": null,
   "metadata": {},
   "outputs": [],
   "source": [
    "full_metrics"
   ]
  },
  {
   "cell_type": "markdown",
   "metadata": {},
   "source": [
    "## Merge"
   ]
  },
  {
   "cell_type": "code",
   "execution_count": null,
   "metadata": {},
   "outputs": [],
   "source": [
    "from functools import reduce \n",
    "\n",
    "feature_dataset_df = reduce(lambda left,right: pd.merge(left,right,on='Subject'), [mpa_metrics, lca_metrics, lpa_metrics, mca_metrics, full_metrics])\n",
    "\n",
    "group = 'dm' if dm_group else 'cg'\n",
    "feature_dataset_df.to_csv(os.path.join(save_path, '{}_metrics.csv'.format(group)), index=False)"
   ]
  },
  {
   "cell_type": "markdown",
   "metadata": {},
   "source": [
    "## TCI"
   ]
  },
  {
   "cell_type": "code",
   "execution_count": null,
   "metadata": {},
   "outputs": [],
   "source": [
    "def temperature_cg_values(angiosomes: DFUData):\n",
    "    '''\n",
    "        Returns the control temperature for the given angiosomes based on the paper\n",
    "    '''\n",
    "    data = [-1, -1, 26.1, 26.1, 25.7, 25.7, 26.4, 26.4, 25.8, 25.8]\n",
    "    if isinstance(angiosomes, list):\n",
    "        return np.array(list(map(lambda x: data[x.value], angiosomes)))\n",
    "    else:\n",
    "        return data[angiosomes.value]\n",
    "\n",
    "def thermal_change_index(features_df: pd.DataFrame):\n",
    "    feet_angiosomes = [ [DFUData.L_LCA, DFUData.L_LPA, DFUData.L_MCA, DFUData.L_MPA],\n",
    "                        [DFUData.R_LCA, DFUData.R_LPA, DFUData.R_MCA, DFUData.R_MPA] ]\n",
    "\n",
    "    tci = []\n",
    "    for foot_angiosomes in feet_angiosomes:\n",
    "        columns = list(map(lambda x: '{}_mean'.format(x.name), foot_angiosomes))\n",
    "        control_temperature = temperature_cg_values(foot_angiosomes)\n",
    "        tci.append((np.abs(control_temperature - features_df[columns].to_numpy())).mean(axis=1))\n",
    "    \n",
    "    return tci\n",
    "\n",
    "left_tci, right_tci = thermal_change_index(feature_dataset_df)\n",
    "\n",
    "feature_dataset_df['L_TCI'] = left_tci\n",
    "feature_dataset_df['R_TCI'] = right_tci    \n",
    "\n",
    "group = 'dm' if dm_group else 'cg'\n",
    "feature_dataset_df.to_csv(os.path.join(save_path, '{}_metrics.csv'.format(group)), index=False)"
   ]
  },
  {
   "cell_type": "code",
   "execution_count": null,
   "metadata": {},
   "outputs": [],
   "source": [
    "feature_dataset_df"
   ]
  },
  {
   "cell_type": "markdown",
   "metadata": {},
   "source": [
    "## Dataset\n",
    "\n",
    "Merge the Control Group and the Experimental Group (Non-Diabetic and Diabetic)."
   ]
  },
  {
   "cell_type": "code",
   "execution_count": null,
   "metadata": {},
   "outputs": [],
   "source": [
    "save_dir = 'data'\n",
    "cg_df = pd.read_csv(os.path.join(save_dir, 'CG/cg_metrics.csv'))\n",
    "dm_df = pd.read_csv(os.path.join(save_dir, 'DM/dm_metrics.csv'))\n",
    "\n",
    "pd.concat([cg_df,dm_df], axis=0).to_csv(os.path.join(save_dir, 'dfu_features_dataset.csv'), index=False)"
   ]
  },
  {
   "cell_type": "markdown",
   "metadata": {},
   "source": [
    "# IACTEC"
   ]
  }
 ],
 "metadata": {
  "kernelspec": {
   "display_name": "Python 3.10.4 ('DeepLearning')",
   "language": "python",
   "name": "python3"
  },
  "language_info": {
   "codemirror_mode": {
    "name": "ipython",
    "version": 3
   },
   "file_extension": ".py",
   "mimetype": "text/x-python",
   "name": "python",
   "nbconvert_exporter": "python",
   "pygments_lexer": "ipython3",
   "version": "3.10.4"
  },
  "orig_nbformat": 4,
  "vscode": {
   "interpreter": {
    "hash": "1d9b8aa8d774518be7ebcfd06a2463a8035a66798fac49b1a363f570d2d8622e"
   }
  }
 },
 "nbformat": 4,
 "nbformat_minor": 2
}
