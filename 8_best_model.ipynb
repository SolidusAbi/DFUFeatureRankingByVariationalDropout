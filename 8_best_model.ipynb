{
 "cells": [
  {
   "cell_type": "code",
   "execution_count": null,
   "metadata": {},
   "outputs": [],
   "source": [
    "import pandas as pd\n",
    "import numpy as np\n",
    "from sklearn.svm import SVC\n",
    "from sklearn.model_selection import RandomizedSearchCV"
   ]
  },
  {
   "cell_type": "code",
   "execution_count": null,
   "metadata": {},
   "outputs": [],
   "source": [
    "X_df = pd.read_csv('data/dataset/oversampling/dfu_features_dataset.csv', index_col=0)\n",
    "y_df = pd.read_csv('data/dataset/oversampling/dfu_labels_dataset.csv', index_col=0)"
   ]
  },
  {
   "cell_type": "code",
   "execution_count": null,
   "metadata": {},
   "outputs": [],
   "source": [
    "def find_parameters(features_df: pd.DataFrame, n_features:int) -> pd.DataFrame:\n",
    "    features = features_df.iloc[:n_features]['Features'].values\n",
    "    X = X_df[features].to_numpy().astype(np.float32)\n",
    "    y = y_df.to_numpy().ravel()\n",
    "\n",
    "    param_grid = {'C': np.logspace(0, 2, 10), 'gamma': np.logspace(-3, 0, 12), 'degree':[3,4,5,6], 'kernel': ['rbf', 'linear', 'poly'],\n",
    "            'probability': [True], 'random_state': [42]}\n",
    "\n",
    "    grid = RandomizedSearchCV(SVC(), param_grid, refit=True, verbose=2, cv=5, n_jobs=-1, n_iter=100, random_state=42)\n",
    "    grid.fit(X, y)\n",
    "\n",
    "    return pd.DataFrame(grid.best_params_, index=[0])"
   ]
  },
  {
   "cell_type": "markdown",
   "metadata": {},
   "source": [
    "# Lasso"
   ]
  },
  {
   "cell_type": "code",
   "execution_count": null,
   "metadata": {},
   "outputs": [],
   "source": [
    "features_df = pd.read_csv('data/features_importance/oversampling/lasso.csv')\n",
    "n_parameters = [10, 25, 50]\n",
    "\n",
    "for i in n_parameters:\n",
    "    df = find_parameters(features_df, i)\n",
    "    # save best params to csv file\n",
    "    df.to_csv('data/best_params/svm_lasso_{}.csv'.format(i), index=False)"
   ]
  },
  {
   "cell_type": "markdown",
   "metadata": {},
   "source": [
    "# Concrete Dropout"
   ]
  },
  {
   "cell_type": "code",
   "execution_count": null,
   "metadata": {},
   "outputs": [],
   "source": [
    "features_df = pd.read_csv('data/features_importance/oversampling/concrete_dropout.csv')\n",
    "\n",
    "n_parameters = [10, 25, 50]\n",
    "\n",
    "for i in n_parameters:\n",
    "    df = find_parameters(features_df, i)\n",
    "    # save best params to csv file\n",
    "    df.to_csv('data/best_params/svm_concrete_{}.csv'.format(i), index=False)\n",
    "\n",
    "n_parameters = [10, 25, 50]"
   ]
  },
  {
   "cell_type": "markdown",
   "metadata": {},
   "source": [
    "# All features"
   ]
  },
  {
   "cell_type": "code",
   "execution_count": null,
   "metadata": {},
   "outputs": [],
   "source": [
    "X = X_df.to_numpy().astype(np.float32)\n",
    "y = y_df.to_numpy().ravel()\n",
    "\n",
    "param_grid = {'C': np.logspace(0, 2, 10), 'gamma': np.logspace(-3, 0, 12), 'degree':[3,4,5,6], 'kernel': ['rbf', 'linear', 'poly'],\n",
    "        'probability': [True], 'random_state': [42]}\n",
    "\n",
    "grid = RandomizedSearchCV(SVC(), param_grid, refit=True, verbose=2, cv=5, n_jobs=-1, n_iter=100, random_state=42)\n",
    "grid.fit(X, y)\n",
    "\n",
    "df = pd.DataFrame(grid.best_params_, index=[0])\n",
    "df.to_csv('data/best_params/svm_all_{}.csv'.format(i), index=False)"
   ]
  }
 ],
 "metadata": {
  "kernelspec": {
   "display_name": "Python 3.10.4 ('DeepLearning')",
   "language": "python",
   "name": "python3"
  },
  "language_info": {
   "codemirror_mode": {
    "name": "ipython",
    "version": 3
   },
   "file_extension": ".py",
   "mimetype": "text/x-python",
   "name": "python",
   "nbconvert_exporter": "python",
   "pygments_lexer": "ipython3",
   "version": "3.10.4"
  },
  "orig_nbformat": 4,
  "vscode": {
   "interpreter": {
    "hash": "1d9b8aa8d774518be7ebcfd06a2463a8035a66798fac49b1a363f570d2d8622e"
   }
  }
 },
 "nbformat": 4,
 "nbformat_minor": 2
}
