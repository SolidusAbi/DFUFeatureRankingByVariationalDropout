{
 "cells": [
  {
   "cell_type": "code",
   "execution_count": null,
   "metadata": {},
   "outputs": [],
   "source": [
    "import pandas as pd\n",
    "import numpy as np\n",
    "from sklearn.svm import SVC"
   ]
  },
  {
   "cell_type": "code",
   "execution_count": null,
   "metadata": {},
   "outputs": [],
   "source": [
    "X_df = pd.read_csv('data/dataset/dfu_features_dataset.csv', index_col=0)\n",
    "y_df = pd.read_csv('data/dataset/dfu_labels_dataset.csv', index_col=0)"
   ]
  },
  {
   "cell_type": "code",
   "execution_count": null,
   "metadata": {},
   "outputs": [],
   "source": [
    "def test(X, y):\n",
    "    from sklearn.svm import SVC\n",
    "    from sklearn.model_selection import KFold\n",
    "\n",
    "    k_folds = 5\n",
    "    kfold = KFold(n_splits=k_folds, shuffle=True, random_state=42)\n",
    "\n",
    "    y_true = []\n",
    "    y_predict = [] \n",
    "\n",
    "    for fold, (train_ids, test_ids) in enumerate(kfold.split(X)):\n",
    "        X_train, X_test = X[train_ids], X[test_ids]\n",
    "        y_train, y_test = y[train_ids], y[test_ids]\n",
    "        # svc = SVC(kernel='linear', C=1.0, random_state=0)\n",
    "        svc = SVC(kernel='rbf', C=1.0, gamma=.1, random_state=0)\n",
    "        svc.fit(X_train, y_train)\n",
    "\n",
    "        y_true.extend(y_test)\n",
    "        y_predict.extend(svc.predict(X_test))\n",
    "\n",
    "        print(f'Acc. Fold {fold}: {svc.score(X_test, y_test)}')\n",
    "\n",
    "    return y_true, y_predict"
   ]
  },
  {
   "cell_type": "code",
   "execution_count": null,
   "metadata": {},
   "outputs": [],
   "source": [
    "def plot_confusion_matrix(y_true, y_predict):\n",
    "    from sklearn.metrics import ConfusionMatrixDisplay\n",
    "    from matplotlib import pyplot as plt\n",
    "    labels = ['CG', 'DM']\n",
    "    cmp = ConfusionMatrixDisplay.from_predictions(y_true, y_predict, display_labels=labels, cmap='Blues', normalize='true')\n",
    "    fig, ax = plt.subplots(figsize=(10,8))\n",
    "    cmp.plot(ax=ax, cmap='Blues')\n",
    "    # Increase labels size\n",
    "    ax.tick_params(axis='both', which='major', labelsize=20)\n",
    "    # Increase xlabel size\n",
    "    ax.set_xlabel(ax.get_xlabel(), fontsize=18)\n",
    "    ax.set_ylabel(ax.get_ylabel(), fontsize=20)\n",
    "    #Increase values size\n",
    "    for text in ax.texts:\n",
    "        text.set_size(18)\n",
    "    # Increase colorbar ticks size\n",
    "    ax.figure.axes[-1].tick_params(labelsize=18)\n",
    "    \n",
    "    return fig\n"
   ]
  },
  {
   "cell_type": "code",
   "execution_count": null,
   "metadata": {},
   "outputs": [],
   "source": [
    "from sklearn.metrics import accuracy_score, precision_score, recall_score, f1_score\n",
    "\n",
    "metrics_df = pd.DataFrame(columns=['Accuracy', 'Precision', 'Recall', 'F1-Score'])"
   ]
  },
  {
   "cell_type": "markdown",
   "metadata": {},
   "source": [
    "# Random Forests Features"
   ]
  },
  {
   "cell_type": "code",
   "execution_count": null,
   "metadata": {},
   "outputs": [],
   "source": [
    "df = pd.read_csv('data/features_importance/original/random_forest.csv')\n",
    "features = df.iloc[:10]['Features'].values\n",
    "print(features)"
   ]
  },
  {
   "cell_type": "code",
   "execution_count": null,
   "metadata": {},
   "outputs": [],
   "source": [
    "X = X_df[features].to_numpy().astype(np.float32)\n",
    "y = y_df.to_numpy().ravel()"
   ]
  },
  {
   "cell_type": "code",
   "execution_count": null,
   "metadata": {},
   "outputs": [],
   "source": [
    "y_true, y_predict = test(X, y)\n",
    "\n",
    "# metrics\n",
    "from sklearn.metrics import accuracy_score, precision_score, recall_score, f1_score\n",
    "\n",
    "acc = accuracy_score(y_true, y_predict)\n",
    "prec = precision_score(y_true, y_predict)\n",
    "rec = recall_score(y_true, y_predict)\n",
    "f1 = f1_score(y_true, y_predict)\n",
    "\n",
    "# insert Random Forest metrics as index\n",
    "metrics_df.loc['Random Forest'] = [acc, prec, rec, f1]"
   ]
  },
  {
   "cell_type": "code",
   "execution_count": null,
   "metadata": {},
   "outputs": [],
   "source": [
    "figure = plot_confusion_matrix(y_true, y_predict)\n",
    "figure.savefig('data/classifiers/imgs/RF.pdf', bbox_inches='tight')"
   ]
  },
  {
   "cell_type": "markdown",
   "metadata": {},
   "source": [
    "# LASSO"
   ]
  },
  {
   "cell_type": "code",
   "execution_count": null,
   "metadata": {},
   "outputs": [],
   "source": [
    "df = pd.read_csv('data/features_importance/original/lasso.csv')\n",
    "features = df.iloc[:10]['Features'].values\n",
    "print(features)"
   ]
  },
  {
   "cell_type": "code",
   "execution_count": null,
   "metadata": {},
   "outputs": [],
   "source": [
    "X = X_df[features].to_numpy().astype(np.float32)\n",
    "y = y_df.to_numpy().ravel()"
   ]
  },
  {
   "cell_type": "code",
   "execution_count": null,
   "metadata": {},
   "outputs": [],
   "source": [
    "y_true, y_predict = test(X, y)\n",
    "\n",
    "# metrics\n",
    "from sklearn.metrics import accuracy_score, precision_score, recall_score, f1_score\n",
    "\n",
    "acc = accuracy_score(y_true, y_predict)\n",
    "prec = precision_score(y_true, y_predict)\n",
    "rec = recall_score(y_true, y_predict)\n",
    "f1 = f1_score(y_true, y_predict)\n",
    "\n",
    "# insert Random Forest metrics as index\n",
    "metrics_df.loc['LASSO'] = [acc, prec, rec, f1]"
   ]
  },
  {
   "cell_type": "code",
   "execution_count": null,
   "metadata": {},
   "outputs": [],
   "source": [
    "figure = plot_confusion_matrix(y_true, y_predict)\n",
    "figure.savefig('data/classifiers/imgs/LASSO.pdf', bbox_inches='tight')"
   ]
  },
  {
   "cell_type": "markdown",
   "metadata": {},
   "source": [
    "# Concrete Dropout"
   ]
  },
  {
   "cell_type": "code",
   "execution_count": null,
   "metadata": {},
   "outputs": [],
   "source": [
    "df = pd.read_csv('data/features_importance/original/concrete_dropout.csv')\n",
    "features = df.iloc[:10]['Features'].values\n",
    "print(features)"
   ]
  },
  {
   "cell_type": "code",
   "execution_count": null,
   "metadata": {},
   "outputs": [],
   "source": [
    "X = X_df[features].to_numpy().astype(np.float32)\n",
    "y = y_df.to_numpy().ravel()"
   ]
  },
  {
   "cell_type": "code",
   "execution_count": null,
   "metadata": {},
   "outputs": [],
   "source": [
    "y_true, y_predict = test(X, y)\n",
    "\n",
    "# metrics\n",
    "from sklearn.metrics import accuracy_score, precision_score, recall_score, f1_score\n",
    "\n",
    "acc = accuracy_score(y_true, y_predict)\n",
    "prec = precision_score(y_true, y_predict)\n",
    "rec = recall_score(y_true, y_predict)\n",
    "f1 = f1_score(y_true, y_predict)\n",
    "\n",
    "# insert Random Forest metrics as index\n",
    "metrics_df.loc['Concrete Dropout'] = [acc, prec, rec, f1]"
   ]
  },
  {
   "cell_type": "code",
   "execution_count": null,
   "metadata": {},
   "outputs": [],
   "source": [
    "figure = plot_confusion_matrix(y_true, y_predict)\n",
    "figure.savefig('data/classifiers/imgs/Concrete.pdf', bbox_inches='tight')"
   ]
  },
  {
   "cell_type": "markdown",
   "metadata": {},
   "source": [
    "# Variational Dropout"
   ]
  },
  {
   "cell_type": "code",
   "execution_count": null,
   "metadata": {},
   "outputs": [],
   "source": [
    "df = pd.read_csv('data/features_importance/original/variational_dropout.csv')\n",
    "features = df.iloc[:10]['Features'].values\n",
    "print(features)"
   ]
  },
  {
   "cell_type": "code",
   "execution_count": null,
   "metadata": {},
   "outputs": [],
   "source": [
    "X = X_df[features].to_numpy().astype(np.float32)\n",
    "y = y_df.to_numpy().ravel()"
   ]
  },
  {
   "cell_type": "code",
   "execution_count": null,
   "metadata": {},
   "outputs": [],
   "source": [
    "y_true, y_predict = test(X, y)\n",
    "\n",
    "# metrics\n",
    "from sklearn.metrics import accuracy_score, precision_score, recall_score, f1_score\n",
    "\n",
    "acc = accuracy_score(y_true, y_predict)\n",
    "prec = precision_score(y_true, y_predict)\n",
    "rec = recall_score(y_true, y_predict)\n",
    "f1 = f1_score(y_true, y_predict)\n",
    "\n",
    "# insert Random Forest metrics as index\n",
    "metrics_df.loc['Variational Dropout'] = [acc, prec, rec, f1]"
   ]
  },
  {
   "cell_type": "code",
   "execution_count": null,
   "metadata": {},
   "outputs": [],
   "source": [
    "figure = plot_confusion_matrix(y_true, y_predict)\n",
    "figure.savefig('data/classifiers/imgs/Variational.pdf', bbox_inches='tight')"
   ]
  },
  {
   "cell_type": "markdown",
   "metadata": {},
   "source": [
    "# Common Features:\n",
    "Quedamos que le mandaba urgente el orden de las features in coincidence ranked: L_MPA_min (5), L_LPA_std (9), R_LPA_min (10), R_MCA_std (12), Foot_ETD (21), L_MCA_std (27),  L_MPA_std (31),  MCA_ETD (38), R_LCA_kurtosis (38), L_MPA_NRT_C3 (39) "
   ]
  },
  {
   "cell_type": "code",
   "execution_count": null,
   "metadata": {},
   "outputs": [],
   "source": [
    "common_features = ['L_MPA_min', 'L_LPA_std', 'R_LPA_min', 'R_MCA_std', 'Foot_ETD', 'L_MCA_std',  'L_MPA_std',  'MCA_ETD', 'R_LCA_kurtosis', 'L_MPA_NRT_C3']"
   ]
  },
  {
   "cell_type": "code",
   "execution_count": null,
   "metadata": {},
   "outputs": [],
   "source": [
    "X = X_df[common_features].to_numpy().astype(np.float32)\n",
    "y = y_df.to_numpy().ravel()"
   ]
  },
  {
   "cell_type": "code",
   "execution_count": null,
   "metadata": {},
   "outputs": [],
   "source": [
    "y_true, y_predict = test(X, y)\n",
    "\n",
    "# metrics\n",
    "from sklearn.metrics import accuracy_score, precision_score, recall_score, f1_score\n",
    "\n",
    "acc = accuracy_score(y_true, y_predict)\n",
    "prec = precision_score(y_true, y_predict)\n",
    "rec = recall_score(y_true, y_predict)\n",
    "f1 = f1_score(y_true, y_predict)\n",
    "\n",
    "# insert Random Forest metrics as index\n",
    "metrics_df.loc['Common Features'] = [acc, prec, rec, f1]"
   ]
  },
  {
   "cell_type": "code",
   "execution_count": null,
   "metadata": {},
   "outputs": [],
   "source": [
    "figure = plot_confusion_matrix(y_true, y_predict)\n",
    "figure.savefig('data/classifiers/imgs/CommonFeatures.pdf', bbox_inches='tight')"
   ]
  },
  {
   "cell_type": "code",
   "execution_count": null,
   "metadata": {},
   "outputs": [],
   "source": [
    "metrics_df"
   ]
  },
  {
   "cell_type": "markdown",
   "metadata": {},
   "source": [
    "# Common Features (MixFeatures)"
   ]
  },
  {
   "cell_type": "code",
   "execution_count": null,
   "metadata": {},
   "outputs": [],
   "source": [
    "common_features = [['L_MPA_min', 'R_MPA_min'],\n",
    "                ['L_LPA_std', 'R_LPA_std'],\n",
    "                ['L_LPA_min', 'R_LPA_min'],\n",
    "                ['L_MCA_std', 'R_MCA_std'],\n",
    "                ['L_MPA_std', 'R_MPA_std'],\n",
    "                ['L_LCA_kurtosis', 'R_LCA_kurtosis'],\n",
    "                ['L_MPA_NRT_C3', 'R_MPA_NRT_C3'],\n",
    "                ['L_MPA_skew', 'R_MPA_skew']]\n",
    "\n",
    "other_features = ['Foot_ETD', 'MCA_ETD', ]"
   ]
  },
  {
   "cell_type": "code",
   "execution_count": null,
   "metadata": {},
   "outputs": [],
   "source": [
    "features = []\n",
    "for l, r in common_features:\n",
    "    features.append(X_df[[l, r]].mean(axis=1).to_numpy().astype(np.float32))\n",
    "\n",
    "features = np.stack(features, axis=1)"
   ]
  },
  {
   "cell_type": "code",
   "execution_count": null,
   "metadata": {},
   "outputs": [],
   "source": [
    "other_features = X_df[other_features].to_numpy().astype(np.float32)\n",
    "\n",
    "X = np.concatenate([features, other_features], axis=1)\n",
    "y = y_df.to_numpy().ravel()"
   ]
  },
  {
   "cell_type": "code",
   "execution_count": null,
   "metadata": {},
   "outputs": [],
   "source": [
    "y = y_df.to_numpy().ravel()"
   ]
  },
  {
   "cell_type": "code",
   "execution_count": null,
   "metadata": {},
   "outputs": [],
   "source": [
    "y_true, y_predict = test(X, y)\n",
    "\n",
    "# metrics\n",
    "from sklearn.metrics import accuracy_score, precision_score, recall_score, f1_score\n",
    "\n",
    "acc = accuracy_score(y_true, y_predict)\n",
    "prec = precision_score(y_true, y_predict)\n",
    "rec = recall_score(y_true, y_predict)\n",
    "f1 = f1_score(y_true, y_predict)\n",
    "\n",
    "# insert Random Forest metrics as index\n",
    "metrics_df.loc['Common Features (Both Feet)'] = [acc, prec, rec, f1]"
   ]
  },
  {
   "cell_type": "code",
   "execution_count": null,
   "metadata": {},
   "outputs": [],
   "source": [
    "metrics_df"
   ]
  },
  {
   "cell_type": "code",
   "execution_count": null,
   "metadata": {},
   "outputs": [],
   "source": [
    "figure = plot_confusion_matrix(y_true, y_predict)\n",
    "figure.savefig('data/classifiers/imgs/CommonFeatures_BothFeet.pdf', bbox_inches='tight')"
   ]
  },
  {
   "cell_type": "markdown",
   "metadata": {},
   "source": [
    "# Save results"
   ]
  },
  {
   "cell_type": "code",
   "execution_count": null,
   "metadata": {},
   "outputs": [],
   "source": [
    "metrics_df.to_csv('data/classifiers/metrics.csv')"
   ]
  },
  {
   "cell_type": "code",
   "execution_count": null,
   "metadata": {},
   "outputs": [],
   "source": []
  }
 ],
 "metadata": {
  "kernelspec": {
   "display_name": "Python 3.10.4 ('DeepLearning')",
   "language": "python",
   "name": "python3"
  },
  "language_info": {
   "codemirror_mode": {
    "name": "ipython",
    "version": 3
   },
   "file_extension": ".py",
   "mimetype": "text/x-python",
   "name": "python",
   "nbconvert_exporter": "python",
   "pygments_lexer": "ipython3",
   "version": "3.10.4"
  },
  "orig_nbformat": 4,
  "vscode": {
   "interpreter": {
    "hash": "1d9b8aa8d774518be7ebcfd06a2463a8035a66798fac49b1a363f570d2d8622e"
   }
  }
 },
 "nbformat": 4,
 "nbformat_minor": 2
}
